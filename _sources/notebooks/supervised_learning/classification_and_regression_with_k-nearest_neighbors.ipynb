{
 "cells": [
  {
   "cell_type": "markdown",
   "id": "22400d09",
   "metadata": {},
   "source": [
    "# Classification and regression with k-nearest neighbors"
   ]
  },
  {
   "cell_type": "code",
   "execution_count": null,
   "id": "eb492b98",
   "metadata": {
    "tags": [
     "hide-input",
     "thebe-init"
    ]
   },
   "outputs": [],
   "source": [
    "import numpy as np\n",
    "import matplotlib.pyplot as plt\n",
    "\n",
    "!git clone https://github.com/luma-lapinamk/jyri-mla23.git\n",
    "import sys\n",
    "sys.path.insert(0, 'jyri-mla23/code')\n",
    "from nearest_neighbors import *"
   ]
  },
  {
   "cell_type": "code",
   "execution_count": null,
   "id": "47578a71",
   "metadata": {},
   "outputs": [],
   "source": [
    "# enter code here"
   ]
  },
  {
   "cell_type": "markdown",
   "id": "cd6a62f0",
   "metadata": {},
   "source": [
    "`````{tab-set}\n",
    "````{tab-item} Toy classification example\n",
    "Use (copy) the below code to a code cell, and run the code cell.\n",
    "```ipython3\n",
    "# Edit -----------------> \n",
    "num_nearest = 2\n",
    "# <----------------- Edit\n",
    "```\n",
    "````\n",
    "\n",
    "````{tab-item} Toy regression example \n",
    "Use (copy) the below code to a code cell, and run the code cell.\n",
    "```ipython3\n",
    "# Edit -----------------> \n",
    "num_nearest = 2\n",
    "# <----------------- Edit\n",
    "```\n",
    "````\n",
    "\n",
    "````{tab-item} What and why\n",
    "Provides example use of the k-NN algorithm. The scenarios should\n",
    "highlight important properties such as the effect of the amount of \n",
    "nearest neighbors, and the effect of the amount of features and data points.\n",
    "\n",
    "````\n",
    "`````"
   ]
  }
 ],
 "metadata": {
  "jupytext": {
   "formats": "md:myst",
   "text_representation": {
    "extension": ".md",
    "format_name": "myst"
   }
  },
  "kernelspec": {
   "display_name": "Python 3",
   "language": "python",
   "name": "python3"
  },
  "source_map": [
   11,
   15,
   26,
   28
  ]
 },
 "nbformat": 4,
 "nbformat_minor": 5
}