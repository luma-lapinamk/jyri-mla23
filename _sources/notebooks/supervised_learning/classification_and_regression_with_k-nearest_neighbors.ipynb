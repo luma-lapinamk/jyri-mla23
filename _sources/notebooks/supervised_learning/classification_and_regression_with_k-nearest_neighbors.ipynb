{
 "cells": [
  {
   "cell_type": "markdown",
   "id": "e0c8f930",
   "metadata": {},
   "source": [
    "<link rel=\"stylesheet\" href=\"https://cdnjs.cloudflare.com/ajax/libs/font-awesome/4.7.0/css/font-awesome.css\" integrity=\"sha512-5A8nwdMOWrSz20fDsjczgUidUBR8liPYU+WymTZP1lmY9G6Oc7HlZv156XqnsgNUzTyMefFTcsFH/tnJE/+xBg==\" crossorigin=\"anonymous\" />\n",
    "<script src=\"https://cdnjs.cloudflare.com/ajax/libs/require.js/2.3.4/require.min.js\"></script>\n",
    "\n",
    "# Classification and regression with k-nearest neighbors"
   ]
  },
  {
   "cell_type": "code",
   "execution_count": null,
   "id": "74d726ae",
   "metadata": {
    "tags": [
     "hide-input",
     "thebe-init"
    ]
   },
   "outputs": [],
   "source": [
    "import numpy as np\n",
    "import matplotlib.pyplot as plt\n",
    "import ipywidgets as widgets"
   ]
  },
  {
   "cell_type": "code",
   "execution_count": null,
   "id": "5a99ce37",
   "metadata": {},
   "outputs": [],
   "source": [
    "# enter code here"
   ]
  },
  {
   "cell_type": "markdown",
   "id": "33f57940",
   "metadata": {},
   "source": [
    "`````{tab-set}\n",
    "````{tab-item} Toy classification example\n",
    "Use (copy) the below code to a code cell, and run the code cell.\n",
    "```ipython3\n",
    "# Edit -----------------> \n",
    "num_nearest = 2\n",
    "# <----------------- Edit\n",
    "```\n",
    "````\n",
    "\n",
    "````{tab-item} Toy regression example \n",
    "Use (copy) the below code to a code cell, and run the code cell.\n",
    "```ipython3\n",
    "# Edit -----------------> \n",
    "num_nearest = 2\n",
    "# <----------------- Edit\n",
    "```\n",
    "````\n",
    "\n",
    "````{tab-item} What and why\n",
    "Provides example use of the k-NN algorithm. The scenarios should\n",
    "highlight important properties such as the effect of the amount of \n",
    "nearest neighbors, and the effect of the amount of features and data points.\n",
    "\n",
    "````\n",
    "`````"
   ]
  }
 ],
 "metadata": {
  "jupytext": {
   "formats": "md:myst",
   "text_representation": {
    "extension": ".md",
    "format_name": "myst"
   }
  },
  "kernelspec": {
   "display_name": "Python 3",
   "language": "python",
   "name": "python3"
  },
  "source_map": [
   11,
   17,
   24,
   26
  ]
 },
 "nbformat": 4,
 "nbformat_minor": 5
}