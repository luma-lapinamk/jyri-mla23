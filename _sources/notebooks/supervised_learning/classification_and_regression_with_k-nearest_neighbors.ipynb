{
 "cells": [
  {
   "cell_type": "markdown",
   "id": "245ca148",
   "metadata": {},
   "source": [
    "# Classification and regression with k-nearest neighbors"
   ]
  },
  {
   "cell_type": "code",
   "execution_count": null,
   "id": "ff2541f9",
   "metadata": {
    "tags": [
     "hide-input",
     "thebe-init"
    ]
   },
   "outputs": [],
   "source": [
    "import numpy as np\n",
    "import matplotlib.pyplot as plt\n",
    "import sys\n",
    "sys.path.insert(0, '../../code')\n",
    "from nearest_neighbors import *"
   ]
  },
  {
   "cell_type": "code",
   "execution_count": null,
   "id": "b51fa159",
   "metadata": {},
   "outputs": [],
   "source": [
    "# enter code here"
   ]
  },
  {
   "cell_type": "markdown",
   "id": "b4674769",
   "metadata": {},
   "source": [
    "`````{tab-set}\n",
    "````{tab-item} Toy classification example\n",
    "Use (copy) the below code to a code cell, and run the code cell.\n",
    "```ipython3\n",
    "# Edit -----------------> \n",
    "num_nearest = 2\n",
    "# <----------------- Edit\n",
    "```\n",
    "````\n",
    "\n",
    "````{tab-item} Toy regression example \n",
    "Use (copy) the below code to a code cell, and run the code cell.\n",
    "```ipython3\n",
    "# Edit -----------------> \n",
    "num_nearest = 2\n",
    "# <----------------- Edit\n",
    "```\n",
    "````\n",
    "\n",
    "````{tab-item} What and why\n",
    "Provides example use of the k-NN algorithm. The scenarios should\n",
    "highlight important properties such as the effect of the amount of \n",
    "nearest neighbors, and the effect of the amount of features and data points.\n",
    "\n",
    "````\n",
    "`````"
   ]
  }
 ],
 "metadata": {
  "jupytext": {
   "formats": "md:myst",
   "text_representation": {
    "extension": ".md",
    "format_name": "myst"
   }
  },
  "kernelspec": {
   "display_name": "Python 3",
   "language": "python",
   "name": "python3"
  },
  "source_map": [
   11,
   15,
   24,
   26
  ]
 },
 "nbformat": 4,
 "nbformat_minor": 5
}